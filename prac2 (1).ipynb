{
 "cells": [
  {
   "cell_type": "code",
   "execution_count": 1,
   "id": "e2faf160-b709-4d91-8728-71dd0f76a262",
   "metadata": {},
   "outputs": [],
   "source": [
    "import pandas as pd\n",
    "import matplotlib.pyplot as plt\n",
    "import seaborn as sns\n",
    "import numpy as np\n",
    "from scipy.stats import zscore\n",
    "from sklearn.preprocessing import PowerTransformer"
   ]
  },
  {
   "cell_type": "code",
   "execution_count": 2,
   "id": "87b00d80-3bdd-45a5-9b19-8f4591f0387a",
   "metadata": {},
   "outputs": [],
   "source": [
    "np.random.seed(42)"
   ]
  },
  {
   "cell_type": "code",
   "execution_count": 3,
   "id": "ab47d596-9936-4b8a-ae8a-9db6afb1eaf9",
   "metadata": {},
   "outputs": [],
   "source": [
    "data = {\n",
    "    'Student_ID': range(1, 21),\n",
    "    'Math_Score': [75, 88, 92, np.nan, 60, 45, 80, 100, 85, 90, 78, 50, 35, 20, 65, 95, 88, np.nan, 77, 200],\n",
    "    'Science_Score': [70, 85, 89, 75, 60, 50, 79, 99, 83, 91, 74, 52, 40, 30, 62, 94, 86, 89, 76, 88],\n",
    "    'Attendance_Percentage': [90, 95, 88, 92, 60, 55, 87, 100, 98, 93, np.nan, 58, 65, 45, 77, 96, 94, 89, 80, 70],\n",
    "    'Assignment_Grade': ['A', 'A', 'B', 'B', 'C', 'D', 'B', 'A', 'B', 'A', 'B', 'C', 'F', 'F', 'C', 'A', 'B', 'B', 'B', 'Z']  # Z is an invalid grade\n",
    "}"
   ]
  },
  {
   "cell_type": "code",
   "execution_count": 4,
   "id": "6eb40a16-9691-49c2-9f72-29487e205026",
   "metadata": {},
   "outputs": [],
   "source": [
    "dataframe=pd.DataFrame(data)"
   ]
  },
  {
   "cell_type": "code",
   "execution_count": 5,
   "id": "fc07dd00-0a64-49bd-b868-d92e7dd50f95",
   "metadata": {},
   "outputs": [
    {
     "data": {
      "text/html": [
       "<div>\n",
       "<style scoped>\n",
       "    .dataframe tbody tr th:only-of-type {\n",
       "        vertical-align: middle;\n",
       "    }\n",
       "\n",
       "    .dataframe tbody tr th {\n",
       "        vertical-align: top;\n",
       "    }\n",
       "\n",
       "    .dataframe thead th {\n",
       "        text-align: right;\n",
       "    }\n",
       "</style>\n",
       "<table border=\"1\" class=\"dataframe\">\n",
       "  <thead>\n",
       "    <tr style=\"text-align: right;\">\n",
       "      <th></th>\n",
       "      <th>Student_ID</th>\n",
       "      <th>Math_Score</th>\n",
       "      <th>Science_Score</th>\n",
       "      <th>Attendance_Percentage</th>\n",
       "      <th>Assignment_Grade</th>\n",
       "    </tr>\n",
       "  </thead>\n",
       "  <tbody>\n",
       "    <tr>\n",
       "      <th>0</th>\n",
       "      <td>1</td>\n",
       "      <td>75.0</td>\n",
       "      <td>70</td>\n",
       "      <td>90.0</td>\n",
       "      <td>A</td>\n",
       "    </tr>\n",
       "    <tr>\n",
       "      <th>1</th>\n",
       "      <td>2</td>\n",
       "      <td>88.0</td>\n",
       "      <td>85</td>\n",
       "      <td>95.0</td>\n",
       "      <td>A</td>\n",
       "    </tr>\n",
       "    <tr>\n",
       "      <th>2</th>\n",
       "      <td>3</td>\n",
       "      <td>92.0</td>\n",
       "      <td>89</td>\n",
       "      <td>88.0</td>\n",
       "      <td>B</td>\n",
       "    </tr>\n",
       "    <tr>\n",
       "      <th>3</th>\n",
       "      <td>4</td>\n",
       "      <td>NaN</td>\n",
       "      <td>75</td>\n",
       "      <td>92.0</td>\n",
       "      <td>B</td>\n",
       "    </tr>\n",
       "    <tr>\n",
       "      <th>4</th>\n",
       "      <td>5</td>\n",
       "      <td>60.0</td>\n",
       "      <td>60</td>\n",
       "      <td>60.0</td>\n",
       "      <td>C</td>\n",
       "    </tr>\n",
       "  </tbody>\n",
       "</table>\n",
       "</div>"
      ],
      "text/plain": [
       "   Student_ID  Math_Score  Science_Score  Attendance_Percentage  \\\n",
       "0           1        75.0             70                   90.0   \n",
       "1           2        88.0             85                   95.0   \n",
       "2           3        92.0             89                   88.0   \n",
       "3           4         NaN             75                   92.0   \n",
       "4           5        60.0             60                   60.0   \n",
       "\n",
       "  Assignment_Grade  \n",
       "0                A  \n",
       "1                A  \n",
       "2                B  \n",
       "3                B  \n",
       "4                C  "
      ]
     },
     "execution_count": 5,
     "metadata": {},
     "output_type": "execute_result"
    }
   ],
   "source": [
    "dataframe.head()"
   ]
  },
  {
   "cell_type": "code",
   "execution_count": 6,
   "id": "7278c955-081c-4bb4-ab50-736196ac4489",
   "metadata": {},
   "outputs": [
    {
     "data": {
      "text/plain": [
       "Index(['Student_ID', 'Math_Score', 'Science_Score', 'Attendance_Percentage',\n",
       "       'Assignment_Grade'],\n",
       "      dtype='object')"
      ]
     },
     "execution_count": 6,
     "metadata": {},
     "output_type": "execute_result"
    }
   ],
   "source": [
    "dataframe.columns"
   ]
  },
  {
   "cell_type": "code",
   "execution_count": 7,
   "id": "af1b51aa-a4ff-439d-b991-f07c56888568",
   "metadata": {},
   "outputs": [
    {
     "data": {
      "text/plain": [
       "Student_ID               0\n",
       "Math_Score               2\n",
       "Science_Score            0\n",
       "Attendance_Percentage    1\n",
       "Assignment_Grade         0\n",
       "dtype: int64"
      ]
     },
     "execution_count": 7,
     "metadata": {},
     "output_type": "execute_result"
    }
   ],
   "source": [
    "dataframe.isnull().sum()"
   ]
  },
  {
   "cell_type": "code",
   "execution_count": 8,
   "id": "8e2110f8-5a83-44fb-b5a3-c815cdc4128a",
   "metadata": {},
   "outputs": [],
   "source": [
    "#filling missing values\n",
    "dataframe['Math_Score'].fillna(dataframe['Math_Score'].mean(),inplace=True)\n",
    "dataframe['Attendance_Percentage'].fillna(dataframe['Attendance_Percentage'].mean(),inplace=True)"
   ]
  },
  {
   "cell_type": "code",
   "execution_count": 9,
   "id": "6b803a65-ee47-45cb-959f-26e79e874bd2",
   "metadata": {},
   "outputs": [
    {
     "data": {
      "text/plain": [
       "Student_ID               0\n",
       "Math_Score               0\n",
       "Science_Score            0\n",
       "Attendance_Percentage    0\n",
       "Assignment_Grade         0\n",
       "dtype: int64"
      ]
     },
     "execution_count": 9,
     "metadata": {},
     "output_type": "execute_result"
    }
   ],
   "source": [
    "dataframe.isnull().sum()"
   ]
  },
  {
   "cell_type": "code",
   "execution_count": 10,
   "id": "a4bff9cf-7c17-454f-aac4-a8b7eb38c8fb",
   "metadata": {},
   "outputs": [],
   "source": [
    "#fixing inconsistent values\n",
    "valid_grades=['A','B','C','D','F']\n",
    "dataframe['Assignment_Grade']=dataframe['Assignment_Grade'].apply(lambda x : x if x in valid_grades else dataframe['Assignment_Grade'].mode()[0])"
   ]
  },
  {
   "cell_type": "code",
   "execution_count": 11,
   "id": "55edd476-6bb8-45de-bddb-2718d1c4d82c",
   "metadata": {},
   "outputs": [
    {
     "data": {
      "text/plain": [
       "array(['A', 'B', 'C', 'D', 'F'], dtype=object)"
      ]
     },
     "execution_count": 11,
     "metadata": {},
     "output_type": "execute_result"
    }
   ],
   "source": [
    "dataframe['Assignment_Grade'].unique()"
   ]
  },
  {
   "cell_type": "code",
   "execution_count": 12,
   "id": "ec71fe9c-400e-4dac-b451-0159ab2e399b",
   "metadata": {},
   "outputs": [],
   "source": [
    "#detect outliers using zscore\n",
    "numeric_cols = ['Math_Score', 'Science_Score', 'Attendance_Percentage']\n",
    "z_score=np.abs(zscore(dataframe[numeric_cols]))\n",
    "outliers=(z_score>3)"
   ]
  },
  {
   "cell_type": "code",
   "execution_count": 13,
   "id": "6a204465-7ce4-469a-b6ad-d6c2cd72b08e",
   "metadata": {},
   "outputs": [
    {
     "name": "stdout",
     "output_type": "stream",
     "text": [
      "    Math_Score  Science_Score  Attendance_Percentage\n",
      "0        False          False                  False\n",
      "1        False          False                  False\n",
      "2        False          False                  False\n",
      "3        False          False                  False\n",
      "4        False          False                  False\n",
      "5        False          False                  False\n",
      "6        False          False                  False\n",
      "7        False          False                  False\n",
      "8        False          False                  False\n",
      "9        False          False                  False\n",
      "10       False          False                  False\n",
      "11       False          False                  False\n",
      "12       False          False                  False\n",
      "13       False          False                  False\n",
      "14       False          False                  False\n",
      "15       False          False                  False\n",
      "16       False          False                  False\n",
      "17       False          False                  False\n",
      "18       False          False                  False\n",
      "19        True          False                  False\n"
     ]
    }
   ],
   "source": [
    "print(outliers)"
   ]
  },
  {
   "cell_type": "code",
   "execution_count": 14,
   "id": "25347ce2-f1fc-429f-9bdf-5600441e3f85",
   "metadata": {},
   "outputs": [],
   "source": [
    "for col in numeric_cols:\n",
    "    Q1 = dataframe[col].quantile(0.25)\n",
    "    Q3 = dataframe[col].quantile(0.75)\n",
    "    IQR = Q3 - Q1\n",
    "    lower_bound = Q1 - 1.5 * IQR\n",
    "    upper_bound = Q3 + 1.5 * IQR\n",
    "    dataframe[col] = np.where(dataframe[col] > upper_bound, upper_bound,\n",
    "              np.where(dataframe[col] < lower_bound, lower_bound, dataframe[col]))"
   ]
  },
  {
   "cell_type": "code",
   "execution_count": 15,
   "id": "2a189d75-8b9e-407d-9d47-7f9b3fb6945d",
   "metadata": {},
   "outputs": [
    {
     "name": "stdout",
     "output_type": "stream",
     "text": [
      "-0.35518553612254267\n"
     ]
    }
   ],
   "source": [
    "#skewness\n",
    "print(dataframe['Math_Score'].skew())"
   ]
  },
  {
   "cell_type": "code",
   "execution_count": 16,
   "id": "85a2525b-baf8-4a4a-95ea-4741b7268528",
   "metadata": {},
   "outputs": [],
   "source": [
    "transformer=PowerTransformer(method='yeo-johnson')\n",
    "dataframe['Math_Score_transformed']=transformer.fit_transform(dataframe[['Math_Score']]) #syntax imp"
   ]
  },
  {
   "cell_type": "code",
   "execution_count": 17,
   "id": "c2aa76f7-7fa2-4d6e-ab5c-57e9a8b74836",
   "metadata": {},
   "outputs": [
    {
     "name": "stdout",
     "output_type": "stream",
     "text": [
      "-0.04525620885574577\n"
     ]
    }
   ],
   "source": [
    "print(dataframe['Math_Score_transformed'].skew())"
   ]
  },
  {
   "cell_type": "code",
   "execution_count": 18,
   "id": "d87f6dc3-2dba-4523-914f-d66219f89413",
   "metadata": {},
   "outputs": [
    {
     "data": {
      "image/png": "[encoded data removed]",
      "text/plain": [
       "<Figure size 640x480 with 1 Axes>"
      ]
     },
     "metadata": {},
     "output_type": "display_data"
    }
   ],
   "source": [
    "plt.title('before')\n",
    "sns.histplot(x='Math_Score',kde=True,data=dataframe)\n",
    "plt.show()"
   ]
  },
  {
   "cell_type": "code",
   "execution_count": 19,
   "id": "0f574c26-4635-4df3-9233-0c5620238b9d",
   "metadata": {},
   "outputs": [
    {
     "data": {
      "image/png": "[encoded data removed]",
      "text/plain": [
       "<Figure size 640x480 with 1 Axes>"
      ]
     },
     "metadata": {},
     "output_type": "display_data"
    }
   ],
   "source": [
    "plt.title('after')\n",
    "sns.histplot(x='Math_Score_transformed',kde=True,data=dataframe)\n",
    "plt.show()"
   ]
  },
  {
   "cell_type": "code",
   "execution_count": 24,
   "id": "b974d4aa-8422-4dfc-bc7f-864a4149cf57",
   "metadata": {},
   "outputs": [
    {
     "data": {
      "text/html": [
       "<div>\n",
       "<style scoped>\n",
       "    .dataframe tbody tr th:only-of-type {\n",
       "        vertical-align: middle;\n",
       "    }\n",
       "\n",
       "    .dataframe tbody tr th {\n",
       "        vertical-align: top;\n",
       "    }\n",
       "\n",
       "    .dataframe thead th {\n",
       "        text-align: right;\n",
       "    }\n",
       "</style>\n",
       "<table border=\"1\" class=\"dataframe\">\n",
       "  <thead>\n",
       "    <tr style=\"text-align: right;\">\n",
       "      <th></th>\n",
       "      <th>Student_ID</th>\n",
       "      <th>Math_Score</th>\n",
       "      <th>Science_Score</th>\n",
       "      <th>Attendance_Percentage</th>\n",
       "      <th>Assignment_Grade</th>\n",
       "      <th>Math_Score_transformed</th>\n",
       "    </tr>\n",
       "  </thead>\n",
       "  <tbody>\n",
       "    <tr>\n",
       "      <th>0</th>\n",
       "      <td>1</td>\n",
       "      <td>75.0</td>\n",
       "      <td>70.0</td>\n",
       "      <td>90.0</td>\n",
       "      <td>A</td>\n",
       "      <td>-0.077823</td>\n",
       "    </tr>\n",
       "    <tr>\n",
       "      <th>1</th>\n",
       "      <td>2</td>\n",
       "      <td>88.0</td>\n",
       "      <td>85.0</td>\n",
       "      <td>95.0</td>\n",
       "      <td>A</td>\n",
       "      <td>0.518840</td>\n",
       "    </tr>\n",
       "    <tr>\n",
       "      <th>7</th>\n",
       "      <td>8</td>\n",
       "      <td>100.0</td>\n",
       "      <td>99.0</td>\n",
       "      <td>100.0</td>\n",
       "      <td>A</td>\n",
       "      <td>1.093286</td>\n",
       "    </tr>\n",
       "    <tr>\n",
       "      <th>9</th>\n",
       "      <td>10</td>\n",
       "      <td>90.0</td>\n",
       "      <td>91.0</td>\n",
       "      <td>93.0</td>\n",
       "      <td>A</td>\n",
       "      <td>0.613064</td>\n",
       "    </tr>\n",
       "    <tr>\n",
       "      <th>15</th>\n",
       "      <td>16</td>\n",
       "      <td>95.0</td>\n",
       "      <td>94.0</td>\n",
       "      <td>96.0</td>\n",
       "      <td>A</td>\n",
       "      <td>0.851312</td>\n",
       "    </tr>\n",
       "  </tbody>\n",
       "</table>\n",
       "</div>"
      ],
      "text/plain": [
       "    Student_ID  Math_Score  Science_Score  Attendance_Percentage  \\\n",
       "0            1        75.0           70.0                   90.0   \n",
       "1            2        88.0           85.0                   95.0   \n",
       "7            8       100.0           99.0                  100.0   \n",
       "9           10        90.0           91.0                   93.0   \n",
       "15          16        95.0           94.0                   96.0   \n",
       "\n",
       "   Assignment_Grade  Math_Score_transformed  \n",
       "0                 A               -0.077823  \n",
       "1                 A                0.518840  \n",
       "7                 A                1.093286  \n",
       "9                 A                0.613064  \n",
       "15                A                0.851312  "
      ]
     },
     "execution_count": 24,
     "metadata": {},
     "output_type": "execute_result"
    }
   ],
   "source": [
    "dataframe['Assignment_Grade']=dataframe[dataframe['Assignment_Grade']=='A']"
   ]
  },
  {
   "cell_type": "code",
   "execution_count": null,
   "id": "64ee7c19-bfe8-44a0-a1fb-265bb36df7d4",
   "metadata": {},
   "outputs": [],
   "source": []
  }
 ],
 "metadata": {
  "kernelspec": {
   "display_name": "Python 3 (ipykernel)",
   "language": "python",
   "name": "python3"
  },
  "language_info": {
   "codemirror_mode": {
    "name": "ipython",
    "version": 3
   },
   "file_extension": ".py",
   "mimetype": "text/x-python",
   "name": "python",
   "nbconvert_exporter": "python",
   "pygments_lexer": "ipython3",
   "version": "3.12.1"
  }
 },
 "nbformat": 4,
 "nbformat_minor": 5
}
